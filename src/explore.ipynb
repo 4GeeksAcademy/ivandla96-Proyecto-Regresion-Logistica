{
    "cells": [
        {
            "cell_type": "markdown",
            "metadata": {},
            "source": [
                "## Contenido del proyecto\n",
                "### EDA\n",
                "* [0. Importar librerias](#c0)\n",
                "* [1. Cargar el conjunto de datos](#c1)\n",
                "* [2. Limpieza de datos](#c2)\n",
                "    * [2.1 Identificar las variables](#s21)\n",
                "    * [2.2 Identificar duplicados y valores nulos](#s22)\n",
                "    * [2.3 s](#s23)\n",
                "* [3. Análisis Univariante](#c3)\n",
                "    * [3.1 ](#s31)\n",
                "    * [3.2 ](#s32) \n",
                "    * [3.3 ](#s33)\n",
                "* [4. Análisis Multivariante](#c4)\n",
                "    * [4.1](#s41)\n",
                "    * [4.2 ](#s42)\n",
                "* [5. Ingeniería de características](#c5)\n",
                "    * [5.1 ](#s51)\n",
                "    * [5.2 ](#s52)\n",
                "    * [5.3 ](#s53)\n",
                "* [6. Análisis de valores faltantes](#c6)\n",
                "    * [](#s61)\n",
                "    * [](#s62)\n",
                "    * [](#s63)\n",
                "### Machine Learning \n",
                "* [7.1 Decision Making: Which is the best dataset?](#s71)\n",
                "* [7.2 Model Optimization](#s72)"
            ]
        },
        {
            "cell_type": "markdown",
            "metadata": {},
            "source": [
                "### 0. Importar librerias"
            ]
        },
        {
            "cell_type": "code",
            "execution_count": 11,
            "metadata": {},
            "outputs": [],
            "source": [
                "import pandas as pd \n",
                "import numpy as np \n",
                "import seaborn as sns \n",
                "import matplotlib.pyplot as plt \n",
                "\n",
                "import json\n",
                "from pickle import dump\n",
                "\n",
                "from sklearn.model_selection import train_test_split, RandomizedSearchCV, GridSearchCV\n",
                "from sklearn.preprocessing import StandardScaler, MinMaxScaler\n",
                "from sklearn.feature_selection import f_classif, SelectKBest\n",
                "from sklearn.metrics import accuracy_score\n",
                "from sklearn.ensemble import GradientBoostingClassifier\n",
                "from sklearn.linear_model import LogisticRegression, Lasso, Ridge, ElasticNet\n",
                "\n",
                "import warnings\n",
                "def warn(*args, **kwargs):\n",
                "    pass\n",
                "warnings.warn = warn\n",
                "warnings.filterwarnings(\"ignore\", category=FutureWarning)\n",
                "pd.set_option('display.max_columns', None)"
            ]
        },
        {
            "cell_type": "markdown",
            "metadata": {},
            "source": [
                "### 1. Cargar el conjunto de datos"
            ]
        },
        {
            "cell_type": "code",
            "execution_count": 16,
            "metadata": {},
            "outputs": [
                {
                    "data": {
                        "text/html": [
                            "<div>\n",
                            "<style scoped>\n",
                            "    .dataframe tbody tr th:only-of-type {\n",
                            "        vertical-align: middle;\n",
                            "    }\n",
                            "\n",
                            "    .dataframe tbody tr th {\n",
                            "        vertical-align: top;\n",
                            "    }\n",
                            "\n",
                            "    .dataframe thead th {\n",
                            "        text-align: right;\n",
                            "    }\n",
                            "</style>\n",
                            "<table border=\"1\" class=\"dataframe\">\n",
                            "  <thead>\n",
                            "    <tr style=\"text-align: right;\">\n",
                            "      <th></th>\n",
                            "      <th>age;\"job\";\"marital\";\"education\";\"default\";\"housing\";\"loan\";\"contact\";\"month\";\"day_of_week\";\"duration\";\"campaign\";\"pdays\";\"previous\";\"poutcome\";\"emp.var.rate\";\"cons.price.idx\";\"cons.conf.idx\";\"euribor3m\";\"nr.employed\";\"y\"</th>\n",
                            "    </tr>\n",
                            "  </thead>\n",
                            "  <tbody>\n",
                            "    <tr>\n",
                            "      <th>0</th>\n",
                            "      <td>56;\"housemaid\";\"married\";\"basic.4y\";\"no\";\"no\";...</td>\n",
                            "    </tr>\n",
                            "    <tr>\n",
                            "      <th>1</th>\n",
                            "      <td>57;\"services\";\"married\";\"high.school\";\"unknown...</td>\n",
                            "    </tr>\n",
                            "    <tr>\n",
                            "      <th>2</th>\n",
                            "      <td>37;\"services\";\"married\";\"high.school\";\"no\";\"ye...</td>\n",
                            "    </tr>\n",
                            "    <tr>\n",
                            "      <th>3</th>\n",
                            "      <td>40;\"admin.\";\"married\";\"basic.6y\";\"no\";\"no\";\"no...</td>\n",
                            "    </tr>\n",
                            "    <tr>\n",
                            "      <th>4</th>\n",
                            "      <td>56;\"services\";\"married\";\"high.school\";\"no\";\"no...</td>\n",
                            "    </tr>\n",
                            "  </tbody>\n",
                            "</table>\n",
                            "</div>"
                        ],
                        "text/plain": [
                            "  age;\"job\";\"marital\";\"education\";\"default\";\"housing\";\"loan\";\"contact\";\"month\";\"day_of_week\";\"duration\";\"campaign\";\"pdays\";\"previous\";\"poutcome\";\"emp.var.rate\";\"cons.price.idx\";\"cons.conf.idx\";\"euribor3m\";\"nr.employed\";\"y\"\n",
                            "0  56;\"housemaid\";\"married\";\"basic.4y\";\"no\";\"no\";...                                                                                                                                                                          \n",
                            "1  57;\"services\";\"married\";\"high.school\";\"unknown...                                                                                                                                                                          \n",
                            "2  37;\"services\";\"married\";\"high.school\";\"no\";\"ye...                                                                                                                                                                          \n",
                            "3  40;\"admin.\";\"married\";\"basic.6y\";\"no\";\"no\";\"no...                                                                                                                                                                          \n",
                            "4  56;\"services\";\"married\";\"high.school\";\"no\";\"no...                                                                                                                                                                          "
                        ]
                    },
                    "execution_count": 16,
                    "metadata": {},
                    "output_type": "execute_result"
                }
            ],
            "source": [
                "total_data = pd.read_csv(\"https://raw.githubusercontent.com/4GeeksAcademy/logistic-regression-project-tutorial/main/bank-marketing-campaign-data.csv\")\n",
                "total_data.head()"
            ]
        },
        {
            "cell_type": "markdown",
            "metadata": {},
            "source": [
                "### 2. Limpieza de datos\n",
                "#### 2.1 Identificar las variables"
            ]
        },
        {
            "cell_type": "markdown",
            "metadata": {},
            "source": [
                "- *age.* Edad del cliente (numérico)\n",
                "- *job.* Tipo de trabajo (categórico)\n",
                "- *marital.* Estado civil (categórico)\n",
                "- *education.* Nivel de educación (categórico)\n",
                "- *default.* ¿Tiene crédito actualmente? (categórico)\n",
                "- *housing.* ¿Tiene un préstamo de vivienda? (categórico)\n",
                "- *loan.* ¿Tiene un préstamo personal? (categórico)\n",
                "- *contact.* Tipo de comunicación de contacto (categórico)\n",
                "- *month.* Último mes en el que se le ha contactado (categórico)\n",
                "- *day_of_week.* Último día en el que se le ha contactado (categórico)\n",
                "- *duration.* Duración del contacto previo en segundos (numérico)\n",
                "- *campaign.* Número de contactos realizados durante esta campaña al cliente (numérico)\n",
                "- *pdays.* Número de días que transcurrieron desde la última campaña hasta que fue contactado (numérico)\n",
                "- *previous.* Número de contactos realizados durante la campaña anterior al cliente (numérico)\n",
                "- *poutcome.* Resultado de la campaña de marketing anterior (categórico)\n",
                "- *emp.var.rate.* Tasa de variación del empleo. Indicador trimestral (numérico)\n",
                "- *cons.price.idx.* Índice de precios al consumidor. Indicador mensual (numérico)\n",
                "- *cons.conf.idx.* Índice de confianza del consumidor. Indicador mensual (numérico)\n",
                "- *euribor3m.* Tasa EURIBOR 3 meses. Indicador diario (numérico)\n",
                "- *nr.employed.* Número de empleados. Indicador trimestral (numérico)\n",
                "- *y. TARGET.* El cliente contrata un depósito a largo plazo o no (categórico)"
            ]
        },
        {
            "cell_type": "markdown",
            "metadata": {},
            "source": [
                "#### 2.2 Identificar duplicados y valores nulos"
            ]
        },
        {
            "cell_type": "code",
            "execution_count": 13,
            "metadata": {},
            "outputs": [
                {
                    "name": "stdout",
                    "output_type": "stream",
                    "text": [
                        "<class 'pandas.core.frame.DataFrame'>\n",
                        "RangeIndex: 41188 entries, 0 to 41187\n",
                        "Data columns (total 1 columns):\n",
                        " #   Column                                                                                                                                                                                                                        Non-Null Count  Dtype \n",
                        "---  ------                                                                                                                                                                                                                        --------------  ----- \n",
                        " 0   age;\"job\";\"marital\";\"education\";\"default\";\"housing\";\"loan\";\"contact\";\"month\";\"day_of_week\";\"duration\";\"campaign\";\"pdays\";\"previous\";\"poutcome\";\"emp.var.rate\";\"cons.price.idx\";\"cons.conf.idx\";\"euribor3m\";\"nr.employed\";\"y\"  41188 non-null  object\n",
                        "dtypes: object(1)\n",
                        "memory usage: 321.9+ KB\n"
                    ]
                }
            ],
            "source": [
                "total_data.info()"
            ]
        }
    ],
    "metadata": {
        "kernelspec": {
            "display_name": "Python 3",
            "language": "python",
            "name": "python3"
        },
        "language_info": {
            "codemirror_mode": {
                "name": "ipython",
                "version": 3
            },
            "file_extension": ".py",
            "mimetype": "text/x-python",
            "name": "python",
            "nbconvert_exporter": "python",
            "pygments_lexer": "ipython3",
            "version": "3.11.4"
        },
        "orig_nbformat": 4
    },
    "nbformat": 4,
    "nbformat_minor": 2
}
